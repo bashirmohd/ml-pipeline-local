{
 "cells": [
  {
   "cell_type": "code",
   "execution_count": 41,
   "source": [
    "import time\n",
    "import os\n",
    "import joblib\n",
    "import pandas as pd\n",
    "import numpy as np\n",
    "import xgboost as xgb\n",
    "from sklearn.model_selection import train_test_split\n",
    "from sklearn.metrics import mean_squared_error"
   ],
   "outputs": [],
   "metadata": {
    "collapsed": true
   }
  },
  {
   "cell_type": "code",
   "execution_count": 42,
   "source": [
    "tp_data = pd.read_csv(\"data/throughput_metrics.csv\")"
   ],
   "outputs": [],
   "metadata": {}
  },
  {
   "cell_type": "code",
   "execution_count": 43,
   "source": [
    "tp_data.head()"
   ],
   "outputs": [
    {
     "output_type": "execute_result",
     "data": {
      "text/html": [
       "<div>\n",
       "<style scoped>\n",
       "    .dataframe tbody tr th:only-of-type {\n",
       "        vertical-align: middle;\n",
       "    }\n",
       "\n",
       "    .dataframe tbody tr th {\n",
       "        vertical-align: top;\n",
       "    }\n",
       "\n",
       "    .dataframe thead th {\n",
       "        text-align: right;\n",
       "    }\n",
       "</style>\n",
       "<table border=\"1\" class=\"dataframe\">\n",
       "  <thead>\n",
       "    <tr style=\"text-align: right;\">\n",
       "      <th></th>\n",
       "      <th>Time</th>\n",
       "      <th>SiteA</th>\n",
       "      <th>SiteB</th>\n",
       "      <th>SiteC</th>\n",
       "      <th>SiteD</th>\n",
       "      <th>SiteE</th>\n",
       "      <th>SiteF</th>\n",
       "    </tr>\n",
       "  </thead>\n",
       "  <tbody>\n",
       "    <tr>\n",
       "      <th>0</th>\n",
       "      <td>1/1/18 8:00</td>\n",
       "      <td>1.411093e+10</td>\n",
       "      <td>1.109243e+09</td>\n",
       "      <td>8.289831e+07</td>\n",
       "      <td>56650005.21</td>\n",
       "      <td>1.117868e+07</td>\n",
       "      <td>827420.9772</td>\n",
       "    </tr>\n",
       "    <tr>\n",
       "      <th>1</th>\n",
       "      <td>1/1/18 9:00</td>\n",
       "      <td>1.345362e+10</td>\n",
       "      <td>1.242256e+09</td>\n",
       "      <td>4.375739e+04</td>\n",
       "      <td>49307351.26</td>\n",
       "      <td>7.070847e+06</td>\n",
       "      <td>913017.6007</td>\n",
       "    </tr>\n",
       "    <tr>\n",
       "      <th>2</th>\n",
       "      <td>1/1/18 10:00</td>\n",
       "      <td>1.216888e+10</td>\n",
       "      <td>2.006322e+09</td>\n",
       "      <td>4.315725e+04</td>\n",
       "      <td>56843652.59</td>\n",
       "      <td>5.132826e+07</td>\n",
       "      <td>874471.3644</td>\n",
       "    </tr>\n",
       "    <tr>\n",
       "      <th>3</th>\n",
       "      <td>1/1/18 11:00</td>\n",
       "      <td>1.123120e+10</td>\n",
       "      <td>1.073181e+09</td>\n",
       "      <td>8.277154e+07</td>\n",
       "      <td>46645240.59</td>\n",
       "      <td>5.217827e+06</td>\n",
       "      <td>837246.7783</td>\n",
       "    </tr>\n",
       "    <tr>\n",
       "      <th>4</th>\n",
       "      <td>1/1/18 12:00</td>\n",
       "      <td>1.078085e+10</td>\n",
       "      <td>8.645069e+08</td>\n",
       "      <td>3.343548e+04</td>\n",
       "      <td>30966947.37</td>\n",
       "      <td>7.495363e+06</td>\n",
       "      <td>827143.7497</td>\n",
       "    </tr>\n",
       "  </tbody>\n",
       "</table>\n",
       "</div>"
      ],
      "text/plain": [
       "           Time         SiteA         SiteB         SiteC        SiteD  \\\n",
       "0   1/1/18 8:00  1.411093e+10  1.109243e+09  8.289831e+07  56650005.21   \n",
       "1   1/1/18 9:00  1.345362e+10  1.242256e+09  4.375739e+04  49307351.26   \n",
       "2  1/1/18 10:00  1.216888e+10  2.006322e+09  4.315725e+04  56843652.59   \n",
       "3  1/1/18 11:00  1.123120e+10  1.073181e+09  8.277154e+07  46645240.59   \n",
       "4  1/1/18 12:00  1.078085e+10  8.645069e+08  3.343548e+04  30966947.37   \n",
       "\n",
       "          SiteE        SiteF  \n",
       "0  1.117868e+07  827420.9772  \n",
       "1  7.070847e+06  913017.6007  \n",
       "2  5.132826e+07  874471.3644  \n",
       "3  5.217827e+06  837246.7783  \n",
       "4  7.495363e+06  827143.7497  "
      ]
     },
     "metadata": {},
     "execution_count": 43
    }
   ],
   "metadata": {}
  },
  {
   "cell_type": "code",
   "execution_count": 44,
   "source": [
    "tp_data.shape"
   ],
   "outputs": [
    {
     "output_type": "execute_result",
     "data": {
      "text/plain": [
       "(8760, 7)"
      ]
     },
     "metadata": {},
     "execution_count": 44
    }
   ],
   "metadata": {}
  },
  {
   "cell_type": "markdown",
   "source": [
    "### Assumption: using all other columns to predict the 'throughput metrics' of siteF"
   ],
   "metadata": {}
  },
  {
   "cell_type": "code",
   "execution_count": 45,
   "source": [
    "tp_data.info()"
   ],
   "outputs": [
    {
     "output_type": "stream",
     "name": "stdout",
     "text": [
      "<class 'pandas.core.frame.DataFrame'>\n",
      "RangeIndex: 8760 entries, 0 to 8759\n",
      "Data columns (total 7 columns):\n",
      " #   Column  Non-Null Count  Dtype  \n",
      "---  ------  --------------  -----  \n",
      " 0   Time    8760 non-null   object \n",
      " 1   SiteA   8760 non-null   float64\n",
      " 2   SiteB   8760 non-null   float64\n",
      " 3   SiteC   8760 non-null   float64\n",
      " 4   SiteD   8760 non-null   float64\n",
      " 5   SiteE   8760 non-null   float64\n",
      " 6   SiteF   8760 non-null   float64\n",
      "dtypes: float64(6), object(1)\n",
      "memory usage: 479.2+ KB\n"
     ]
    }
   ],
   "metadata": {}
  },
  {
   "cell_type": "code",
   "execution_count": 46,
   "source": [
    "tp_data[\"Time\"] = pd.to_datetime(tp_data[\"Time\"], format='%m/%d/%y %H:%M')"
   ],
   "outputs": [],
   "metadata": {}
  },
  {
   "cell_type": "code",
   "execution_count": 47,
   "source": [
    "tp_data.head()"
   ],
   "outputs": [
    {
     "output_type": "execute_result",
     "data": {
      "text/html": [
       "<div>\n",
       "<style scoped>\n",
       "    .dataframe tbody tr th:only-of-type {\n",
       "        vertical-align: middle;\n",
       "    }\n",
       "\n",
       "    .dataframe tbody tr th {\n",
       "        vertical-align: top;\n",
       "    }\n",
       "\n",
       "    .dataframe thead th {\n",
       "        text-align: right;\n",
       "    }\n",
       "</style>\n",
       "<table border=\"1\" class=\"dataframe\">\n",
       "  <thead>\n",
       "    <tr style=\"text-align: right;\">\n",
       "      <th></th>\n",
       "      <th>Time</th>\n",
       "      <th>SiteA</th>\n",
       "      <th>SiteB</th>\n",
       "      <th>SiteC</th>\n",
       "      <th>SiteD</th>\n",
       "      <th>SiteE</th>\n",
       "      <th>SiteF</th>\n",
       "    </tr>\n",
       "  </thead>\n",
       "  <tbody>\n",
       "    <tr>\n",
       "      <th>0</th>\n",
       "      <td>2018-01-01 08:00:00</td>\n",
       "      <td>1.411093e+10</td>\n",
       "      <td>1.109243e+09</td>\n",
       "      <td>8.289831e+07</td>\n",
       "      <td>56650005.21</td>\n",
       "      <td>1.117868e+07</td>\n",
       "      <td>827420.9772</td>\n",
       "    </tr>\n",
       "    <tr>\n",
       "      <th>1</th>\n",
       "      <td>2018-01-01 09:00:00</td>\n",
       "      <td>1.345362e+10</td>\n",
       "      <td>1.242256e+09</td>\n",
       "      <td>4.375739e+04</td>\n",
       "      <td>49307351.26</td>\n",
       "      <td>7.070847e+06</td>\n",
       "      <td>913017.6007</td>\n",
       "    </tr>\n",
       "    <tr>\n",
       "      <th>2</th>\n",
       "      <td>2018-01-01 10:00:00</td>\n",
       "      <td>1.216888e+10</td>\n",
       "      <td>2.006322e+09</td>\n",
       "      <td>4.315725e+04</td>\n",
       "      <td>56843652.59</td>\n",
       "      <td>5.132826e+07</td>\n",
       "      <td>874471.3644</td>\n",
       "    </tr>\n",
       "    <tr>\n",
       "      <th>3</th>\n",
       "      <td>2018-01-01 11:00:00</td>\n",
       "      <td>1.123120e+10</td>\n",
       "      <td>1.073181e+09</td>\n",
       "      <td>8.277154e+07</td>\n",
       "      <td>46645240.59</td>\n",
       "      <td>5.217827e+06</td>\n",
       "      <td>837246.7783</td>\n",
       "    </tr>\n",
       "    <tr>\n",
       "      <th>4</th>\n",
       "      <td>2018-01-01 12:00:00</td>\n",
       "      <td>1.078085e+10</td>\n",
       "      <td>8.645069e+08</td>\n",
       "      <td>3.343548e+04</td>\n",
       "      <td>30966947.37</td>\n",
       "      <td>7.495363e+06</td>\n",
       "      <td>827143.7497</td>\n",
       "    </tr>\n",
       "  </tbody>\n",
       "</table>\n",
       "</div>"
      ],
      "text/plain": [
       "                 Time         SiteA         SiteB         SiteC        SiteD  \\\n",
       "0 2018-01-01 08:00:00  1.411093e+10  1.109243e+09  8.289831e+07  56650005.21   \n",
       "1 2018-01-01 09:00:00  1.345362e+10  1.242256e+09  4.375739e+04  49307351.26   \n",
       "2 2018-01-01 10:00:00  1.216888e+10  2.006322e+09  4.315725e+04  56843652.59   \n",
       "3 2018-01-01 11:00:00  1.123120e+10  1.073181e+09  8.277154e+07  46645240.59   \n",
       "4 2018-01-01 12:00:00  1.078085e+10  8.645069e+08  3.343548e+04  30966947.37   \n",
       "\n",
       "          SiteE        SiteF  \n",
       "0  1.117868e+07  827420.9772  \n",
       "1  7.070847e+06  913017.6007  \n",
       "2  5.132826e+07  874471.3644  \n",
       "3  5.217827e+06  837246.7783  \n",
       "4  7.495363e+06  827143.7497  "
      ]
     },
     "metadata": {},
     "execution_count": 47
    }
   ],
   "metadata": {}
  },
  {
   "cell_type": "code",
   "execution_count": 48,
   "source": [
    "tp_data[\"hour\"] = tp_data.Time.dt.hour"
   ],
   "outputs": [],
   "metadata": {}
  },
  {
   "cell_type": "code",
   "execution_count": 49,
   "source": [
    "tp_data[\"day\"] = tp_data.Time.dt.day"
   ],
   "outputs": [],
   "metadata": {}
  },
  {
   "cell_type": "code",
   "execution_count": 50,
   "source": [
    "tp_data[\"month\"] = tp_data.Time.dt.month"
   ],
   "outputs": [],
   "metadata": {}
  },
  {
   "cell_type": "code",
   "execution_count": 51,
   "source": [
    "tp_data[\"year\"] = tp_data.Time.dt.year"
   ],
   "outputs": [],
   "metadata": {}
  },
  {
   "cell_type": "code",
   "execution_count": 52,
   "source": [
    "#tp_data = tp_data.drop([\"Time\"], axis=1)"
   ],
   "outputs": [],
   "metadata": {}
  },
  {
   "cell_type": "code",
   "execution_count": 53,
   "source": [
    "tp_data.head()"
   ],
   "outputs": [
    {
     "output_type": "execute_result",
     "data": {
      "text/html": [
       "<div>\n",
       "<style scoped>\n",
       "    .dataframe tbody tr th:only-of-type {\n",
       "        vertical-align: middle;\n",
       "    }\n",
       "\n",
       "    .dataframe tbody tr th {\n",
       "        vertical-align: top;\n",
       "    }\n",
       "\n",
       "    .dataframe thead th {\n",
       "        text-align: right;\n",
       "    }\n",
       "</style>\n",
       "<table border=\"1\" class=\"dataframe\">\n",
       "  <thead>\n",
       "    <tr style=\"text-align: right;\">\n",
       "      <th></th>\n",
       "      <th>Time</th>\n",
       "      <th>SiteA</th>\n",
       "      <th>SiteB</th>\n",
       "      <th>SiteC</th>\n",
       "      <th>SiteD</th>\n",
       "      <th>SiteE</th>\n",
       "      <th>SiteF</th>\n",
       "      <th>hour</th>\n",
       "      <th>day</th>\n",
       "      <th>month</th>\n",
       "      <th>year</th>\n",
       "    </tr>\n",
       "  </thead>\n",
       "  <tbody>\n",
       "    <tr>\n",
       "      <th>0</th>\n",
       "      <td>2018-01-01 08:00:00</td>\n",
       "      <td>1.411093e+10</td>\n",
       "      <td>1.109243e+09</td>\n",
       "      <td>8.289831e+07</td>\n",
       "      <td>56650005.21</td>\n",
       "      <td>1.117868e+07</td>\n",
       "      <td>827420.9772</td>\n",
       "      <td>8</td>\n",
       "      <td>1</td>\n",
       "      <td>1</td>\n",
       "      <td>2018</td>\n",
       "    </tr>\n",
       "    <tr>\n",
       "      <th>1</th>\n",
       "      <td>2018-01-01 09:00:00</td>\n",
       "      <td>1.345362e+10</td>\n",
       "      <td>1.242256e+09</td>\n",
       "      <td>4.375739e+04</td>\n",
       "      <td>49307351.26</td>\n",
       "      <td>7.070847e+06</td>\n",
       "      <td>913017.6007</td>\n",
       "      <td>9</td>\n",
       "      <td>1</td>\n",
       "      <td>1</td>\n",
       "      <td>2018</td>\n",
       "    </tr>\n",
       "    <tr>\n",
       "      <th>2</th>\n",
       "      <td>2018-01-01 10:00:00</td>\n",
       "      <td>1.216888e+10</td>\n",
       "      <td>2.006322e+09</td>\n",
       "      <td>4.315725e+04</td>\n",
       "      <td>56843652.59</td>\n",
       "      <td>5.132826e+07</td>\n",
       "      <td>874471.3644</td>\n",
       "      <td>10</td>\n",
       "      <td>1</td>\n",
       "      <td>1</td>\n",
       "      <td>2018</td>\n",
       "    </tr>\n",
       "    <tr>\n",
       "      <th>3</th>\n",
       "      <td>2018-01-01 11:00:00</td>\n",
       "      <td>1.123120e+10</td>\n",
       "      <td>1.073181e+09</td>\n",
       "      <td>8.277154e+07</td>\n",
       "      <td>46645240.59</td>\n",
       "      <td>5.217827e+06</td>\n",
       "      <td>837246.7783</td>\n",
       "      <td>11</td>\n",
       "      <td>1</td>\n",
       "      <td>1</td>\n",
       "      <td>2018</td>\n",
       "    </tr>\n",
       "    <tr>\n",
       "      <th>4</th>\n",
       "      <td>2018-01-01 12:00:00</td>\n",
       "      <td>1.078085e+10</td>\n",
       "      <td>8.645069e+08</td>\n",
       "      <td>3.343548e+04</td>\n",
       "      <td>30966947.37</td>\n",
       "      <td>7.495363e+06</td>\n",
       "      <td>827143.7497</td>\n",
       "      <td>12</td>\n",
       "      <td>1</td>\n",
       "      <td>1</td>\n",
       "      <td>2018</td>\n",
       "    </tr>\n",
       "  </tbody>\n",
       "</table>\n",
       "</div>"
      ],
      "text/plain": [
       "                 Time         SiteA         SiteB         SiteC        SiteD  \\\n",
       "0 2018-01-01 08:00:00  1.411093e+10  1.109243e+09  8.289831e+07  56650005.21   \n",
       "1 2018-01-01 09:00:00  1.345362e+10  1.242256e+09  4.375739e+04  49307351.26   \n",
       "2 2018-01-01 10:00:00  1.216888e+10  2.006322e+09  4.315725e+04  56843652.59   \n",
       "3 2018-01-01 11:00:00  1.123120e+10  1.073181e+09  8.277154e+07  46645240.59   \n",
       "4 2018-01-01 12:00:00  1.078085e+10  8.645069e+08  3.343548e+04  30966947.37   \n",
       "\n",
       "          SiteE        SiteF  hour  day  month  year  \n",
       "0  1.117868e+07  827420.9772     8    1      1  2018  \n",
       "1  7.070847e+06  913017.6007     9    1      1  2018  \n",
       "2  5.132826e+07  874471.3644    10    1      1  2018  \n",
       "3  5.217827e+06  837246.7783    11    1      1  2018  \n",
       "4  7.495363e+06  827143.7497    12    1      1  2018  "
      ]
     },
     "metadata": {},
     "execution_count": 53
    }
   ],
   "metadata": {}
  },
  {
   "cell_type": "code",
   "execution_count": 54,
   "source": [
    "X = tp_data[[\"hour\", \"day\", \"month\", \"year\"]]\n",
    "y = tp_data[\"SiteF\"]"
   ],
   "outputs": [],
   "metadata": {}
  },
  {
   "cell_type": "code",
   "execution_count": 55,
   "source": [
    "tp_data.to_csv(\"data/throughput_metrics_modified.csv\")"
   ],
   "outputs": [],
   "metadata": {}
  },
  {
   "cell_type": "code",
   "execution_count": 56,
   "source": [
    "X_train, X_test, y_train, y_test = train_test_split(X, y, shuffle=False, test_size=0.10)"
   ],
   "outputs": [],
   "metadata": {}
  },
  {
   "cell_type": "code",
   "execution_count": 40,
   "source": [
    "xgb_reg = xgb.XGBRegressor()\n"
   ],
   "outputs": [],
   "metadata": {}
  },
  {
   "cell_type": "code",
   "execution_count": 17,
   "source": [
    "xgb_reg.fit(X_train, y_train)"
   ],
   "outputs": [
    {
     "output_type": "execute_result",
     "data": {
      "text/plain": [
       "XGBRegressor(base_score=0.5, booster='gbtree', colsample_bylevel=1,\n",
       "             colsample_bynode=1, colsample_bytree=1, gamma=0, gpu_id=-1,\n",
       "             importance_type='gain', interaction_constraints='',\n",
       "             learning_rate=0.300000012, max_delta_step=0, max_depth=6,\n",
       "             min_child_weight=1, missing=nan, monotone_constraints='()',\n",
       "             n_estimators=100, n_jobs=4, num_parallel_tree=1, random_state=0,\n",
       "             reg_alpha=0, reg_lambda=1, scale_pos_weight=1, subsample=1,\n",
       "             tree_method='exact', validate_parameters=1, verbosity=None)"
      ]
     },
     "metadata": {},
     "execution_count": 17
    }
   ],
   "metadata": {}
  },
  {
   "cell_type": "code",
   "execution_count": 21,
   "source": [
    "joblib.dump(xgb_reg, \"xgb_model.joblib\")"
   ],
   "outputs": [
    {
     "output_type": "execute_result",
     "data": {
      "text/plain": [
       "['xgb_model.joblib']"
      ]
     },
     "metadata": {},
     "execution_count": 21
    }
   ],
   "metadata": {}
  },
  {
   "cell_type": "code",
   "execution_count": null,
   "source": [],
   "outputs": [],
   "metadata": {}
  },
  {
   "cell_type": "code",
   "execution_count": 20,
   "source": [
    "mean_squared_error(y_test, y_pred,squared=False)"
   ],
   "outputs": [
    {
     "output_type": "execute_result",
     "data": {
      "text/plain": [
       "746419.8041826863"
      ]
     },
     "metadata": {},
     "execution_count": 20
    }
   ],
   "metadata": {}
  },
  {
   "cell_type": "code",
   "execution_count": 22,
   "source": [
    "a = pd.DataFrame({\"value\":X_test.values[1]}).values.reshape(-1, 4)"
   ],
   "outputs": [],
   "metadata": {}
  },
  {
   "cell_type": "code",
   "execution_count": 23,
   "source": [
    "a.shape"
   ],
   "outputs": [
    {
     "output_type": "execute_result",
     "data": {
      "text/plain": [
       "(1, 4)"
      ]
     },
     "metadata": {},
     "execution_count": 23
    }
   ],
   "metadata": {}
  },
  {
   "cell_type": "code",
   "execution_count": 24,
   "source": [
    "xgb_reg.predict(a)"
   ],
   "outputs": [
    {
     "output_type": "execute_result",
     "data": {
      "text/plain": [
       "array([636685.], dtype=float32)"
      ]
     },
     "metadata": {},
     "execution_count": 24
    }
   ],
   "metadata": {}
  }
 ],
 "metadata": {
  "kernelspec": {
   "name": "python3",
   "display_name": "Python 3.7.11 64-bit ('deeplearning': conda)"
  },
  "language_info": {
   "name": "python",
   "version": "3.7.11",
   "mimetype": "text/x-python",
   "codemirror_mode": {
    "name": "ipython",
    "version": 3
   },
   "pygments_lexer": "ipython3",
   "nbconvert_exporter": "python",
   "file_extension": ".py"
  },
  "interpreter": {
   "hash": "f49fb24e2a6168897ecce4f2e284ab71624d3cfb83252ec7750a620ef6e9d297"
  }
 },
 "nbformat": 4,
 "nbformat_minor": 2
}